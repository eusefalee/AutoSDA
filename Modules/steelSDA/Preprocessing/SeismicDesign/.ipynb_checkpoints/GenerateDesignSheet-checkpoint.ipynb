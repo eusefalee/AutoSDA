{
 "cells": [
  {
   "cell_type": "markdown",
   "metadata": {},
   "source": [
    "# Create a Spreadsheet Including All Design Cases"
   ]
  },
  {
   "cell_type": "code",
   "execution_count": 1,
   "metadata": {},
   "outputs": [],
   "source": [
    "# ************** Define all design factors ***************\n",
    "# The number of building story\n",
    "building_story = [1, 5, 9, 14, 19]\n",
    "# Bay width (unit: ft)\n",
    "bay_width = [20, 30, 40]\n",
    "# The 1st story/upper story height\n",
    "story_height_ratio = [1.0, 1.5, 2.0]\n",
    "# Number of bay\n",
    "number_of_bay = [1, 3, 5]\n",
    "# dead load on typical floor (unit: psf)\n",
    "dead_load_floor = [50, 80, 110]\n",
    "# dead load on roof (unit: psf)\n",
    "dead_load_roof = [20, 67.5, 115]\n",
    "# strong column weak beam ratio\n",
    "column_beam_ratio = [1.0, 1.5, 2.0]\n",
    "\n",
    "# Typical story height (unit: ft)\n",
    "story_height = 13\n",
    "\n",
    "\n",
    "# ************** Generate design database ***************\n",
    "import pandas as pd\n",
    "\n",
    "design_sheet = pd.DataFrame(columns=['building ID', 'number of story', 'bay width', \n",
    "                                     'story height ratio', 'number of bay', \n",
    "                                     'floor dead load', 'roof dead load', 'column beam ratio'])\n",
    "\n",
    "# Use for loop to fill the value for the data frame\n",
    "ID = 0\n",
    "for i in range(0, len(building_story)):\n",
    "    for j in range(0, len(bay_width)):\n",
    "        for k in range(0, len(story_height_ratio)):\n",
    "            for p in range(0, len(number_of_bay)):\n",
    "                for l in range(0, len(dead_load_floor)):\n",
    "                    for m in range(0, len(dead_load_roof)):\n",
    "                        for n in range(0, len(column_beam_ratio)):\n",
    "                            design_sheet.loc[ID, 'building ID'] = ID\n",
    "                            design_sheet.loc[ID, 'number of story'] = building_story[i]\n",
    "                            design_sheet.loc[ID, 'bay width'] = bay_width[j]\n",
    "                            design_sheet.loc[ID, 'story height ratio'] = story_height_ratio[k]\n",
    "                            # total_building_heigth = (1 * story_height * k) + (building_story[i] - 1) * story_height\n",
    "                            # desired_number_of_bay = int((total_building_heigth/7)/bay_width[j])\n",
    "                            # design_sheet.loc[ID, 'number of bay'] = desired_number_of_bay\n",
    "                            design_sheet.loc[ID, 'number of bay'] = number_of_bay[p]\n",
    "                            design_sheet.loc[ID, 'floor dead load'] = dead_load_floor[l]\n",
    "                            design_sheet.loc[ID, 'roof dead load'] = dead_load_roof[m]\n",
    "                            design_sheet.loc[ID, 'column beam ratio'] = column_beam_ratio[n]\n",
    "                            ID = ID + 1\n",
    "\n",
    "design_sheet.to_csv('DesignSheet1.csv', sep = ',', index = False)"
   ]
  },
  {
   "cell_type": "markdown",
   "metadata": {},
   "source": [
    "# Remove Unnecessary Sampling Points"
   ]
  },
  {
   "cell_type": "code",
   "execution_count": 2,
   "metadata": {},
   "outputs": [],
   "source": [
    "# Clean the database: when the building is tall, remove the one-bay frame plan.\n",
    "# When the building is one-story building, the strong-column-weak-beam ratio is useless.\n",
    "# When the building is one-story building, the roof dead load is useless.\n",
    "[row_number, col_number] = design_sheet.shape\n",
    "indx =[]\n",
    "for building_id in range(row_number):\n",
    "    # Not meaningful to talk about strong column weak beam ratio for 1-story building\n",
    "    if design_sheet.loc[building_id, 'number of story'] == 1 and design_sheet.loc[building_id, 'column beam ratio'] == 1.5:\n",
    "        indx.append(building_id)\n",
    "    # Not meaningful to talk about strong column weak beam ratio for 1-story building\n",
    "    if design_sheet.loc[building_id, 'number of story'] == 1 and design_sheet.loc[building_id, 'column beam ratio'] == 2:\n",
    "        indx.append(building_id)\n",
    "    # Not meaningful to talk about roof dead load for 1-story building\n",
    "    if design_sheet.loc[building_id, 'number of story'] == 1 and design_sheet.loc[building_id, 'roof dead load'] != 20:\n",
    "        indx.append(building_id)\n",
    "    # If the building is greater than 3-story ==> not common to use one-bay frame.\n",
    "    if design_sheet.loc[building_id, 'number of story'] >= 3 and design_sheet.loc[building_id, 'number of bay'] == 1:\n",
    "        indx.append(building_id)\n",
    "    \n",
    "new_sheet = design_sheet.drop(index=indx)\n",
    "new_sheet.to_csv('DesignSheet2.csv', sep=',', index=False)"
   ]
  },
  {
   "cell_type": "code",
   "execution_count": null,
   "metadata": {},
   "outputs": [],
   "source": []
  }
 ],
 "metadata": {
  "kernelspec": {
   "display_name": "Python 3",
   "language": "python",
   "name": "python3"
  },
  "language_info": {
   "codemirror_mode": {
    "name": "ipython",
    "version": 3
   },
   "file_extension": ".py",
   "mimetype": "text/x-python",
   "name": "python",
   "nbconvert_exporter": "python",
   "pygments_lexer": "ipython3",
   "version": "3.7.6"
  }
 },
 "nbformat": 4,
 "nbformat_minor": 2
}
