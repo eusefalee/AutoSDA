{
 "cells": [
  {
   "cell_type": "markdown",
   "metadata": {},
   "source": [
    "## Move OpenSees Models to a New Single Folder"
   ]
  },
  {
   "cell_type": "code",
   "execution_count": 2,
   "metadata": {},
   "outputs": [],
   "source": [
    "# This file is used to move all OpenSees models to a new single folder\n",
    "# which will be convenient for uploading models to cluster (super computer)\n",
    "\n",
    "import os\n",
    "import shutil\n",
    "\n",
    "# Define source directory where all building models (eigen model, pushover model, and dynamic model) are stored\n",
    "source_directory = 'C:\\\\Users\\\\61946\\\\Documents\\\\GitHub\\\\SeismicDesignModule\\\\BuildingNonlinearModels'\n",
    "\n",
    "# Define target directory where all desired models (either pushover or dynamic model) will be stored\n",
    "target_directory = 'C:\\\\Users\\\\61946\\\\Desktop\\\\GUANBatch6'\n",
    "\n",
    "# Define a list of building IDs\n",
    "IDs = [1539, 1542, 1566, 1569, 1572, 1575, 1578, 1581, 1584, 1587, 1590, 1593, 1596, \n",
    "       1599, 1620, 1623, 1626, 1629, 1632, 1635, 1638, 1641, 1644, 1647, 1650, 1653, \n",
    "       1674, 1677, 1680, 1683, 1686, 1689, 1692, 1695, 1701, 1704, 1707, 1728, 1731, \n",
    "       1734, 1737, 1740, 1743, 1746, 1749, 1755, 1758, 1761, 1782, 1785, 1788, 1791, \n",
    "       1794, 1797, 1800, 1803, 1809, 1812, 1815, 1836, 1839, 1842, 1845, 1848, 1851, \n",
    "       1863, 1866, 1890, 1893, 1896, 1899, 1902, 1905, 1917, 1920, 1944, 1947, 1950, \n",
    "       1953, 1956, 1959, 1971, 1998, 2001, 2004, 2007, 2010, 2013]\n",
    "\n",
    "\n",
    "# Define the desired model type\n",
    "# Options: EigenValueAnalysis, PushoverAnalysis, DynamicAnalysis\n",
    "model_type = 'DynamicAnalysis'\n",
    "\n",
    "# Loop over each building folder and move the necessary files to new folder\n",
    "for indx in IDs:\n",
    "    # Current building folder\n",
    "    building_id = 'Building_' + str(indx)\n",
    "    # Source directory where current building model is\n",
    "    source_model = source_directory + '\\\\' + building_id + '\\\\' + model_type\n",
    "    # Destinaton directory where this current building model will be moved\n",
    "    target_model = target_directory + '\\\\' + building_id + '\\\\' + model_type\n",
    "    # This new folder path might not be existing (thus create it)\n",
    "    if not os.path.exists(target_model):\n",
    "        os.makedirs(target_model) \n",
    "    # Make sure the original building model indeed exists\n",
    "    if os.path.exists(source_model):\n",
    "        # Loop over all files in the source_model path and move them to new folder\n",
    "        for _, _, files in os.walk(source_model):\n",
    "            for file in files:\n",
    "                # Source full file path (file path + file name + file extension)\n",
    "                source_file = source_model + '\\\\' + file\n",
    "                # Target full file path (target file path + file name + file extension)\n",
    "                target_file = target_model + '\\\\' + file\n",
    "                # Not necessary to move OpenSees.exe file (waste space and affect copy speed)\n",
    "                # Cluster has its own executable file\n",
    "                if file != 'OpenSees.exe' and file != 'RunIDA2DModel.tcl':\n",
    "                    shutil.copy(source_file, target_file)"
   ]
  },
  {
   "cell_type": "code",
   "execution_count": null,
   "metadata": {},
   "outputs": [],
   "source": []
  }
 ],
 "metadata": {
  "kernelspec": {
   "display_name": "Python 3",
   "language": "python",
   "name": "python3"
  },
  "language_info": {
   "codemirror_mode": {
    "name": "ipython",
    "version": 3
   },
   "file_extension": ".py",
   "mimetype": "text/x-python",
   "name": "python",
   "nbconvert_exporter": "python",
   "pygments_lexer": "ipython3",
   "version": "3.8.5"
  }
 },
 "nbformat": 4,
 "nbformat_minor": 2
}
