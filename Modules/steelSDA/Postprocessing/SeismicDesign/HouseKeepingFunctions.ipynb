{
 "cells": [
  {
   "cell_type": "code",
   "execution_count": 1,
   "metadata": {},
   "outputs": [],
   "source": [
    "def detect_exceptional_drift(target_IDs, file_name):\n",
    "    \"\"\"\n",
    "    This function is used to extract the story drifts from building design results.\n",
    "    :param: target_IDs: :param target_IDs: a list which includes ID for buildings that we are interested.\n",
    "    :param file_name: a string denoting the files that you want to read.\n",
    "                      options: 'OptimalDrift.csv', 'ConstructionDrift.csv'\n",
    "    :return: a list with X elements, where X is the number of buildings that we are interested.\n",
    "             each element is further a list with Y elements. Y is the number of stories for each building.\n",
    "    \"\"\"\n",
    "    # Initialize a list to store the function output\n",
    "    story_drift = []\n",
    "    except_ID = []\n",
    "    for ID in target_IDs:\n",
    "        drift_per_building = []\n",
    "        target_path = design_directory + \"\\\\Building_\" + str(ID)\n",
    "        os.chdir(target_path)\n",
    "        with open(file_name, 'r') as file1:\n",
    "            StoryDrift = pd.read_csv(file1, header=0)\n",
    "        RowNumber = StoryDrift.shape[0]\n",
    "        for story in range(RowNumber):\n",
    "            drift_per_building.append(StoryDrift.loc[story, 'story drift']*5.5*1.1*100)\n",
    "        if(max(drift_per_building) > 2):\n",
    "            except_ID.append(ID)\n",
    "        story_drift.append(drift_per_building)\n",
    "    return except_ID, story_drift"
   ]
  },
  {
   "cell_type": "markdown",
   "metadata": {},
   "source": [
    "# Check 1-story Building Drift"
   ]
  },
  {
   "cell_type": "code",
   "execution_count": 3,
   "metadata": {},
   "outputs": [
    {
     "name": "stdout",
     "output_type": "stream",
     "text": [
      "1-story building starting from building 0 ending at building 80\n",
      "total building number:  81\n"
     ]
    }
   ],
   "source": [
    "import os\n",
    "import pandas as pd\n",
    "\n",
    "# Base directory: where the SeismicDesignModule package is stored\n",
    "# base_directory = 'C:\\\\Users\\\\XINGQUAN GUAN\\\\Documents\\\\GitHub\\\\SeismicDesignModule'\n",
    "base_directory = 'C:\\\\Users\\\\61946\\\\Documents\\\\GitHub\\\\SeismicDesignModule'\n",
    "\n",
    "# Postprocessing folder path\n",
    "postprocessing_directory = base_directory + '\\\\Poseprocessing'\n",
    "\n",
    "# Preprocessing folder path\n",
    "preprocessing_directory = base_directory + '\\\\Preprocessing'\n",
    "\n",
    "# Design results folder path\n",
    "design_directory = base_directory + '\\\\BuildingData'\n",
    "\n",
    "# Load the section database\n",
    "os.chdir(base_directory)\n",
    "with open('AllSectionDatabase.csv', 'r') as file:\n",
    "    SECTION_DATABASE = pd.read_csv(file, header=0)\n",
    "\n",
    "# Load the design sampling space\n",
    "os.chdir(preprocessing_directory)\n",
    "with open('DesignSheet2.csv', 'r') as file:\n",
    "    DESIGN_SPACE = pd.read_csv(file, header=0)\n",
    "\n",
    "# Find the building IDs that we are interested in.\n",
    "target_ID = []\n",
    "\n",
    "for indx in range(DESIGN_SPACE.shape[0]):\n",
    "    if DESIGN_SPACE.loc[indx, 'number of story'] == 1:\n",
    "        target_ID.append(DESIGN_SPACE.loc[indx, 'building ID'])\n",
    "print(\"1-story building starting from building\", target_ID[0], \"ending at building\", target_ID[-1])\n",
    "print(\"total building number: \", len(target_ID))"
   ]
  },
  {
   "cell_type": "code",
   "execution_count": 3,
   "metadata": {},
   "outputs": [
    {
     "name": "stdout",
     "output_type": "stream",
     "text": [
      "Drift exceptional building:  []\n"
     ]
    }
   ],
   "source": [
    "except_ID, drift = detect_exceptional_drift(target_ID, 'ConstructionDrift.csv')\n",
    "print(\"Drift exceptional building: \", except_ID)"
   ]
  },
  {
   "cell_type": "markdown",
   "metadata": {},
   "source": [
    "# Check 5-story Building Missing Files and Drift"
   ]
  },
  {
   "cell_type": "code",
   "execution_count": 4,
   "metadata": {},
   "outputs": [
    {
     "name": "stdout",
     "output_type": "stream",
     "text": [
      "5-story building starting from building 81 ending at building 564\n",
      "total building number:  162\n"
     ]
    }
   ],
   "source": [
    "# Find the building IDs that we are interested in.\n",
    "target_ID = []\n",
    "\n",
    "for indx in range(DESIGN_SPACE.shape[0]):\n",
    "    if DESIGN_SPACE.loc[indx, 'number of story'] == 5 and DESIGN_SPACE.loc[indx, 'column beam ratio'] == 1.0 \\\n",
    "    and DESIGN_SPACE.loc[indx, 'number of bay'] != 1 and DESIGN_SPACE.loc[indx, 'building ID'] not in except_ID:\n",
    "        target_ID.append(DESIGN_SPACE.loc[indx, 'building ID'])\n",
    "print(\"5-story building starting from building\", target_ID[0], \"ending at building\", target_ID[-1])\n",
    "print(\"total building number: \", len(target_ID))"
   ]
  },
  {
   "cell_type": "code",
   "execution_count": 5,
   "metadata": {},
   "outputs": [
    {
     "name": "stdout",
     "output_type": "stream",
     "text": [
      "Missing Files Building:  []\n"
     ]
    }
   ],
   "source": [
    "file_count = []  # Count how many output files each building data folder has\n",
    "missing_ID = []\n",
    "\n",
    "for ID in target_ID:\n",
    "    target_folder = base_directory + '\\\\BuildingData' + '\\\\Building_' + str(ID)\n",
    "    for _, _, files in os.walk(target_folder):\n",
    "        file_count.append(len(files))\n",
    "        if (len(files) != 30):\n",
    "            missing_ID.append(ID)\n",
    "print(\"Missing Files Building: \", missing_ID)"
   ]
  },
  {
   "cell_type": "code",
   "execution_count": 6,
   "metadata": {
    "scrolled": true
   },
   "outputs": [
    {
     "name": "stdout",
     "output_type": "stream",
     "text": [
      "Drift exceptional building:  []\n"
     ]
    }
   ],
   "source": [
    "except_ID, drift = detect_exceptional_drift(target_ID, 'ConstructionDrift.csv')\n",
    "print(\"Drift exceptional building: \", except_ID)"
   ]
  },
  {
   "cell_type": "markdown",
   "metadata": {},
   "source": [
    "# Check 9-story Building Missing Files and Drift"
   ]
  },
  {
   "cell_type": "code",
   "execution_count": 7,
   "metadata": {},
   "outputs": [
    {
     "name": "stdout",
     "output_type": "stream",
     "text": [
      "9-story building starting from building 567 ending at building 1050\n",
      "total building number:  162\n"
     ]
    }
   ],
   "source": [
    "# Find the building IDs that we are interested in.\n",
    "target_ID = []\n",
    "excet_ID = []\n",
    "\n",
    "for indx in range(DESIGN_SPACE.shape[0]):\n",
    "    if DESIGN_SPACE.loc[indx, 'number of story'] == 9 and DESIGN_SPACE.loc[indx, 'column beam ratio'] == 1.0 \\\n",
    "    and DESIGN_SPACE.loc[indx, 'number of bay'] != 1 and DESIGN_SPACE.loc[indx, 'building ID'] not in except_ID:\n",
    "        target_ID.append(DESIGN_SPACE.loc[indx, 'building ID'])\n",
    "print(\"9-story building starting from building\", target_ID[0], \"ending at building\", target_ID[-1])\n",
    "print(\"total building number: \", len(target_ID))"
   ]
  },
  {
   "cell_type": "code",
   "execution_count": 8,
   "metadata": {},
   "outputs": [
    {
     "name": "stdout",
     "output_type": "stream",
     "text": [
      "Missing Files Building:  []\n"
     ]
    }
   ],
   "source": [
    "file_count = []  # Count how many output files each building data folder has\n",
    "missing_ID = []\n",
    "\n",
    "for ID in target_ID:\n",
    "    target_folder = base_directory + '\\\\BuildingData' + '\\\\Building_' + str(ID)\n",
    "    for _, _, files in os.walk(target_folder):\n",
    "        file_count.append(len(files))\n",
    "        if (len(files) != 30):\n",
    "            missing_ID.append(ID)\n",
    "print(\"Missing Files Building: \", missing_ID)"
   ]
  },
  {
   "cell_type": "code",
   "execution_count": 9,
   "metadata": {},
   "outputs": [
    {
     "name": "stdout",
     "output_type": "stream",
     "text": [
      "Drift exceptional building:  []\n"
     ]
    }
   ],
   "source": [
    "except_ID, drift = detect_exceptional_drift(target_ID, 'ConstructionDrift.csv')\n",
    "print(\"Drift exceptional building: \", except_ID)"
   ]
  },
  {
   "cell_type": "markdown",
   "metadata": {},
   "source": [
    "# Check 14-story Building Missing Files and Drift"
   ]
  },
  {
   "cell_type": "code",
   "execution_count": 10,
   "metadata": {},
   "outputs": [
    {
     "name": "stdout",
     "output_type": "stream",
     "text": [
      "14-story building starting from building 1053 ending at building 1533\n",
      "total building number:  125\n"
     ]
    }
   ],
   "source": [
    "# Find the building IDs that we are interested in.\n",
    "target_ID = []\n",
    "except_ID = [1068, 1071, 1074, 1077, 1131, 1179, 1182, 1185, 1230, 1233, 1236, 1239, 1287, 1290, 1293,\n",
    "             1341, 1344, 1347, 1386, 1389, 1392, 1395, 1398,\n",
    "             1401, 1440, 1443, 1446, 1449, 1452, 1455, 1494, 1497, 1500, 1503, 1506, 1509, 1536]\n",
    "\n",
    "for indx in range(DESIGN_SPACE.shape[0]):\n",
    "    if DESIGN_SPACE.loc[indx, 'number of story'] == 14 and DESIGN_SPACE.loc[indx, 'column beam ratio'] == 1.0 \\\n",
    "    and DESIGN_SPACE.loc[indx, 'number of bay'] != 1 and DESIGN_SPACE.loc[indx, 'building ID'] not in except_ID:\n",
    "        target_ID.append(DESIGN_SPACE.loc[indx, 'building ID'])\n",
    "print(\"14-story building starting from building\", target_ID[0], \"ending at building\", target_ID[-1])\n",
    "print(\"total building number: \", len(target_ID))"
   ]
  },
  {
   "cell_type": "code",
   "execution_count": 11,
   "metadata": {},
   "outputs": [
    {
     "name": "stdout",
     "output_type": "stream",
     "text": [
      "Missing Files Building:  []\n"
     ]
    }
   ],
   "source": [
    "file_count = []  # Count how many output files each building data folder has\n",
    "missing_ID = []\n",
    "\n",
    "for ID in target_ID:\n",
    "    target_folder = base_directory + '\\\\BuildingData' + '\\\\Building_' + str(ID)\n",
    "    for _, _, files in os.walk(target_folder):\n",
    "        file_count.append(len(files))\n",
    "        if (len(files) != 30):\n",
    "            missing_ID.append(ID)\n",
    "print(\"Missing Files Building: \", missing_ID)"
   ]
  },
  {
   "cell_type": "code",
   "execution_count": 12,
   "metadata": {},
   "outputs": [
    {
     "name": "stdout",
     "output_type": "stream",
     "text": [
      "Drift exceptional building:  []\n"
     ]
    }
   ],
   "source": [
    "except_ID, drift = detect_exceptional_drift(target_ID, 'ConstructionDrift.csv')\n",
    "print(\"Drift exceptional building: \", except_ID)"
   ]
  },
  {
   "cell_type": "markdown",
   "metadata": {},
   "source": [
    "# Check 19-story Building Missing Files and Drift"
   ]
  },
  {
   "cell_type": "code",
   "execution_count": 41,
   "metadata": {},
   "outputs": [
    {
     "name": "stdout",
     "output_type": "stream",
     "text": [
      "19-story building starting from building 1539 ending at building 2013\n"
     ]
    }
   ],
   "source": [
    "# Find the building IDs that we are interested in.\n",
    "target_ID = []\n",
    "except_ID = [1545, 1548, 1551, 1554, 1557, 1560, 1563, 1602, 1605, 1608, 1611, 1614, 1617, 1656, 1659, 1662, 1665, 1668,\n",
    "             1671, 1698, 1710, 1713, 1716, 1719, 1722, 1725, \n",
    "             1752, 1764, 1767, 1770, 1773, 1776, 1779, \n",
    "             1806, 1818, 1821, 1824, 1827, 1830, 1833, 1854, 1857, 1860, 1869, 1872, 1875, 1878, 1881, 1884, 1887, \n",
    "             1854, 1857, 1860, 1908, 1911, 1914, 1923, 1926, 1929,\n",
    "             1932, 1935, 1938, 1941, 1962, 1965, 1968, 1974, 1977, 1980, 1983, 1986, 1989, 1992, 1995,\n",
    "             2016, 2019, 2022]\n",
    "\n",
    "for indx in range(DESIGN_SPACE.shape[0]):\n",
    "    if DESIGN_SPACE.loc[indx, 'number of story'] == 19 and DESIGN_SPACE.loc[indx, 'column beam ratio'] == 1.0 \\\n",
    "    and DESIGN_SPACE.loc[indx, 'number of bay'] != 1 and DESIGN_SPACE.loc[indx, 'building ID'] not in except_ID:\n",
    "        target_ID.append(DESIGN_SPACE.loc[indx, 'building ID'])\n",
    "print(\"19-story building starting from building\", target_ID[0], \"ending at building\", target_ID[-1])"
   ]
  },
  {
   "cell_type": "code",
   "execution_count": 42,
   "metadata": {},
   "outputs": [
    {
     "name": "stdout",
     "output_type": "stream",
     "text": [
      "Missing Files Building:  []\n"
     ]
    }
   ],
   "source": [
    "file_count = []  # Count how many output files each building data folder has\n",
    "missing_ID = []\n",
    "\n",
    "for ID in target_ID:\n",
    "    target_folder = base_directory + '\\\\BuildingData' + '\\\\Building_' + str(ID)\n",
    "    for _, _, files in os.walk(target_folder):\n",
    "        file_count.append(len(files))\n",
    "        if (len(files) != 30):\n",
    "            missing_ID.append(ID)\n",
    "print(\"Missing Files Building: \", missing_ID)"
   ]
  },
  {
   "cell_type": "code",
   "execution_count": 43,
   "metadata": {},
   "outputs": [
    {
     "name": "stdout",
     "output_type": "stream",
     "text": [
      "Drift exceptional building:  []\n"
     ]
    }
   ],
   "source": [
    "except_ID, drift = detect_exceptional_drift(target_ID, 'ConstructionDrift.csv')\n",
    "print(\"Drift exceptional building: \", except_ID)"
   ]
  },
  {
   "cell_type": "code",
   "execution_count": 44,
   "metadata": {},
   "outputs": [
    {
     "data": {
      "text/plain": [
       "88"
      ]
     },
     "execution_count": 44,
     "metadata": {},
     "output_type": "execute_result"
    }
   ],
   "source": [
    "len(target_ID)"
   ]
  },
  {
   "cell_type": "code",
   "execution_count": null,
   "metadata": {},
   "outputs": [],
   "source": []
  }
 ],
 "metadata": {
  "kernelspec": {
   "display_name": "Python 3",
   "language": "python",
   "name": "python3"
  },
  "language_info": {
   "codemirror_mode": {
    "name": "ipython",
    "version": 3
   },
   "file_extension": ".py",
   "mimetype": "text/x-python",
   "name": "python",
   "nbconvert_exporter": "python",
   "pygments_lexer": "ipython3",
   "version": "3.6.5"
  }
 },
 "nbformat": 4,
 "nbformat_minor": 2
}
