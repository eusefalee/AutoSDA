{
 "cells": [
  {
   "cell_type": "markdown",
   "metadata": {},
   "source": [
    "# Visualize Seismic Design Results"
   ]
  },
  {
   "cell_type": "code",
   "execution_count": 1,
   "metadata": {},
   "outputs": [],
   "source": [
    "import numpy as np\n",
    "import matplotlib.pylab as plt\n",
    "import os\n",
    "import pandas as pd\n",
    "\n",
    "def search_section_property(target_size, section_database):\n",
    "    \"\"\"\n",
    "    This function is used to obtain the section property when section size is given.\n",
    "    The output will be stored in a dictionary.\n",
    "    :param target_size: a string which defines section size, e.g. 'W14X500'\n",
    "    :param section_database: a dataframe read from SMF_Section_Property.csv in \"Library\" folder\n",
    "    :return: section_info: a dictionary which includes section size, index, and associated properties.\n",
    "    \"\"\"\n",
    "    # Loop over the sections in the SMF section database and find the one which matches the target size\n",
    "    # Then the property of the target section is returned as a dictionary.\n",
    "    # If target size cannot match any existing sizes in database, a warning message should be given.\n",
    "    try:\n",
    "        for indx in np.array(section_database['index']):\n",
    "            if target_size == section_database.loc[indx, 'section size']:\n",
    "                section_info = section_database.loc[indx, :]\n",
    "        return section_info.to_dict()\n",
    "    except:\n",
    "        sys.stderr.write('Error: wrong size nominated!\\nNo such size exists in section database!')\n",
    "        sys.exit(1)"
   ]
  },
  {
   "cell_type": "code",
   "execution_count": 2,
   "metadata": {},
   "outputs": [],
   "source": [
    "# Base directory: where the SeismicDesignModule package is stored\n",
    "base_directory = 'C:\\\\Users\\\\XINGQUAN GUAN\\\\Documents\\\\GitHub\\\\SeismicDesignModule'\n",
    "\n",
    "# Postprocessing folder path\n",
    "postprocessing_directory = base_directory + '\\\\Poseprocessing'\n",
    "\n",
    "# Preprocessing folder path\n",
    "preprocessing_directory = base_directory + '\\\\Preprocessing'\n",
    "\n",
    "# Design results folder path\n",
    "design_directory = base_directory + '\\\\BuildingData'\n",
    "\n",
    "# Typical story height\n",
    "typical_story_height = 13\n",
    "\n",
    "# Load the section database\n",
    "os.chdir(base_directory)\n",
    "with open('SMF_Section_Property.csv', 'r') as file:\n",
    "    SECTION_DATABASE = pd.read_csv(file, header=0)\n",
    "\n",
    "# Load the design sampling space\n",
    "os.chdir(preprocessing_directory)\n",
    "with open('DesignSheet2.csv', 'r') as file:\n",
    "    DESIGN_SPACE = pd.read_csv(file, header=0)"
   ]
  },
  {
   "cell_type": "markdown",
   "metadata": {},
   "source": [
    "# The influence of Dead Load"
   ]
  },
  {
   "cell_type": "code",
   "execution_count": 14,
   "metadata": {},
   "outputs": [],
   "source": [
    "# Fix all other parameters while studying influence of dead load\n",
    "number_story = 1\n",
    "bay_width = 30\n",
    "story_height_ratio = 1.0\n",
    "number_bay = 1\n",
    "dead_load_roof = 20\n",
    "column_beam_ratio = 1.0\n",
    "\n",
    "# Varying the number of bay (bay is significant factor affecting structure layout)\n",
    "\n",
    "\n",
    "# Key factor\n",
    "dead_load_floor = [50, 80, 110]\n",
    "\n",
    "# Loop over the database to find the building ID that satisfied the parameters defined above\n",
    "target_ID = []  # Variable to store the building ID that studies dead load influence\n",
    "row_number = DESIGN_SPACE.shape[0]\n",
    "for indx in range(row_number):\n",
    "    if (DESIGN_SPACE.loc[indx, 'number of story'] == number_story \n",
    "        and DESIGN_SPACE.loc[indx, 'bay width'] == bay_width \n",
    "        and DESIGN_SPACE.loc[indx, 'story height ratio'] == story_height_ratio\n",
    "        and DESIGN_SPACE.loc[indx, 'number of bay'] == number_bay \n",
    "        and DESIGN_SPACE.loc[indx, 'dead load roof'] == dead_load_roof \n",
    "        and DESIGN_SPACE.loc[indx, 'column beam ratio'] == column_beam_ratio):\n",
    "            target_ID.append(DESIGN_SPACE.loc[indx, 'building ID'])\n",
    "\n",
    "# Read the Design Results for Those Buildings\n",
    "beam = []\n",
    "exterior_column = []\n",
    "interior_column = []\n",
    "double_plate_thickness = []\n",
    "for ID in target_ID:\n",
    "    beam_per_building = []\n",
    "    exterior_column_per_building = []\n",
    "    interior_column_per_building = []\n",
    "    target_path = design_directory + \"\\\\Building_\" + str(ID)\n",
    "    os.chdir(target_path)\n",
    "    with open('ConstructionSize.csv', 'r') as file:\n",
    "        MemberSize = pd.read_csv(file, header=0)\n",
    "    row_number = MemberSize.shape[0]\n",
    "    for story in range(row_number):\n",
    "        beam_per_building.append(MemberSize.loc[story, 'beam'])\n",
    "        exterior_column_per_building.append(MemberSize.loc[story, 'exterior column'])\n",
    "        interior_column_per_building.append(MemberSize.loc[story, 'interior column'])\n",
    "    beam.append(beam_per_building)\n",
    "    exterior_column.append(exterior_column_per_building)\n",
    "    interior_column.append(interior_column_per_building)"
   ]
  },
  {
   "cell_type": "code",
   "execution_count": 15,
   "metadata": {},
   "outputs": [],
   "source": [
    "# Visualize the results\n",
    "# The quantities to quantify those section sizes\n",
    "beam_Zx = []\n",
    "exterior_column_Ix = []\n",
    "interior_column_Ix = []\n",
    "for each in range(len(beam)):\n",
    "    beam_Zx_per_building = []\n",
    "    exterior_column_Ix_per_building = []\n",
    "    interior_column_Ix_per_building = []\n",
    "    for story in range(len(beam[0])):\n",
    "        beam_Zx_per_building.append(search_section_property(beam[each][story], SECTION_DATABASE)['Ix'])\n",
    "        exterior_column_Ix_per_building.append(search_section_property(exterior_column[each][story], SECTION_DATABASE)['Ix'])\n",
    "        interior_column_Ix_per_building.append(search_section_property(interior_column[each][story], SECTION_DATABASE)['Ix'])\n",
    "    beam_Zx.append(beam_Zx_per_building)\n",
    "    exterior_column_Ix.append(exterior_column_Ix_per_building)\n",
    "    interior_column_Ix.append(interior_column_Ix_per_building)\n",
    "\n"
   ]
  },
  {
   "cell_type": "code",
   "execution_count": 16,
   "metadata": {},
   "outputs": [
    {
     "data": {
      "image/png": "[encoded data removed]",
      "text/plain": [
       "<Figure size 432x288 with 1 Axes>"
      ]
     },
     "metadata": {},
     "output_type": "display_data"
    }
   ],
   "source": [
    "fig = plt.figure(figsize=(6, 4))\n",
    "plt.plot(dead_load_floor, beam_Zx, color='blue', marker='*', markersize=12, label='beam Ix')\n",
    "plt.plot(dead_load_floor, exterior_column_Ix, color='red', marker='^', markersize=12, label='exterior column Ix')\n",
    "if number_bay != 1:\n",
    "    plt.plot(dead_load_floor, interior_column_Ix, color='green', marker='d', markersize=12, label='interior column Ix')\n",
    "plt.legend(loc='upper left')\n",
    "plt.title('story# = %s, bay width = %s ft, story height = %s ft, bay# = %s' \n",
    "          % (number_story, bay_width, story_height_ratio*typical_story_height, number_bay))\n",
    "plt.show()"
   ]
  },
  {
   "cell_type": "markdown",
   "metadata": {},
   "source": [
    "# The Influence of Story Height"
   ]
  },
  {
   "cell_type": "code",
   "execution_count": 31,
   "metadata": {},
   "outputs": [],
   "source": [
    "# Fix all other parameters while studying influence of dead load\n",
    "number_story = 1\n",
    "bay_width = 30\n",
    "story_height_ratio = 1.0\n",
    "number_bay = 5\n",
    "dead_load_floor = 50\n",
    "dead_load_roof = 20\n",
    "column_beam_ratio = 1.0\n",
    "\n",
    "# Key factor\n",
    "story_height_ratio = [1.0*13, 1.5*13, 2.0*13]\n",
    "\n",
    "# Loop over the database to find the building ID that satisfied the parameters defined above\n",
    "target_ID = []  # Variable to store the building ID that studies dead load influence\n",
    "row_number = DESIGN_SPACE.shape[0]\n",
    "for indx in range(row_number):\n",
    "    if (DESIGN_SPACE.loc[indx, 'number of story'] == number_story \n",
    "        and DESIGN_SPACE.loc[indx, 'bay width'] == bay_width \n",
    "        and DESIGN_SPACE.loc[indx, 'number of bay'] == number_bay \n",
    "        and DESIGN_SPACE.loc[indx, 'dead load floor'] == dead_load_floor\n",
    "        and DESIGN_SPACE.loc[indx, 'dead load roof'] == dead_load_roof \n",
    "        and DESIGN_SPACE.loc[indx, 'column beam ratio'] == column_beam_ratio):\n",
    "            target_ID.append(DESIGN_SPACE.loc[indx, 'building ID'])\n",
    "# Read the Design Results for Those Buildings\n",
    "beam = []\n",
    "exterior_column = []\n",
    "interior_column = []\n",
    "double_plate_thickness = []\n",
    "for ID in target_ID:\n",
    "    beam_per_building = []\n",
    "    exterior_column_per_building = []\n",
    "    interior_column_per_building = []\n",
    "    target_path = design_directory + \"\\\\Building_\" + str(ID)\n",
    "    os.chdir(target_path)\n",
    "    with open('ConstructionSize.csv', 'r') as file:\n",
    "        MemberSize = pd.read_csv(file, header=0)\n",
    "    row_number = MemberSize.shape[0]\n",
    "    for story in range(row_number):\n",
    "        beam_per_building.append(MemberSize.loc[story, 'beam'])\n",
    "        exterior_column_per_building.append(MemberSize.loc[story, 'exterior column'])\n",
    "        interior_column_per_building.append(MemberSize.loc[story, 'interior column'])\n",
    "    beam.append(beam_per_building)\n",
    "    exterior_column.append(exterior_column_per_building)\n",
    "    interior_column.append(interior_column_per_building)"
   ]
  },
  {
   "cell_type": "code",
   "execution_count": 32,
   "metadata": {},
   "outputs": [],
   "source": [
    "# Visualize the results\n",
    "# The quantities to quantify those section sizes\n",
    "beam_Zx = []\n",
    "exterior_column_Ix = []\n",
    "interior_column_Ix = []\n",
    "for each in range(len(beam)):\n",
    "    beam_Zx_per_building = []\n",
    "    exterior_column_Ix_per_building = []\n",
    "    interior_column_Ix_per_building = []\n",
    "    for story in range(len(beam[0])):\n",
    "        beam_Zx_per_building.append(search_section_property(beam[each][story], SECTION_DATABASE)['Ix'])\n",
    "        exterior_column_Ix_per_building.append(search_section_property(exterior_column[each][story], SECTION_DATABASE)['Ix'])\n",
    "        interior_column_Ix_per_building.append(search_section_property(interior_column[each][story], SECTION_DATABASE)['Ix'])\n",
    "    beam_Zx.append(beam_Zx_per_building)\n",
    "    exterior_column_Ix.append(exterior_column_Ix_per_building)\n",
    "    interior_column_Ix.append(interior_column_Ix_per_building)"
   ]
  },
  {
   "cell_type": "code",
   "execution_count": 33,
   "metadata": {},
   "outputs": [
    {
     "data": {
      "image/png": "[encoded data removed]",
      "text/plain": [
       "<Figure size 432x288 with 1 Axes>"
      ]
     },
     "metadata": {},
     "output_type": "display_data"
    }
   ],
   "source": [
    "fig = plt.figure(figsize=(6, 4))\n",
    "plt.plot(story_height_ratio, beam_Zx, color='blue', marker='*', markersize=12, label='beam Ix')\n",
    "plt.plot(story_height_ratio, exterior_column_Ix, color='red', marker='^', markersize=12, label='exterior column Ix')\n",
    "if number_bay != 1:\n",
    "    plt.plot(story_height_ratio, interior_column_Ix, color='green', marker='d', markersize=12, label='interior column Ix')\n",
    "plt.legend(loc='upper left')\n",
    "plt.title('story# = %s, bay width = %s ft , bay# = %s, floor dead load = %s psf ' \n",
    "          % (number_story, bay_width, number_bay, dead_load_floor))\n",
    "plt.show()"
   ]
  },
  {
   "cell_type": "markdown",
   "metadata": {},
   "source": [
    "# Influence of Bay Number"
   ]
  },
  {
   "cell_type": "code",
   "execution_count": 46,
   "metadata": {},
   "outputs": [],
   "source": [
    "# Fix all other parameters while studying influence of dead load\n",
    "number_story = 1\n",
    "bay_width = 40\n",
    "story_height_ratio = 1.5\n",
    "story_height_ratio = 1.0\n",
    "dead_load_floor = 50\n",
    "dead_load_roof = 20\n",
    "column_beam_ratio = 1.0\n",
    "\n",
    "# Target factor\n",
    "number_bay = [1, 3, 5]\n",
    "\n",
    "# Loop over the database to find the building ID that satisfied the parameters defined above\n",
    "target_ID = []  # Variable to store the building ID that studies dead load influence\n",
    "row_number = DESIGN_SPACE.shape[0]\n",
    "for indx in range(row_number):\n",
    "    if (DESIGN_SPACE.loc[indx, 'number of story'] == number_story \n",
    "        and DESIGN_SPACE.loc[indx, 'bay width'] == bay_width \n",
    "        and DESIGN_SPACE.loc[indx, 'story height ratio'] == story_height_ratio\n",
    "        and DESIGN_SPACE.loc[indx, 'dead load floor'] == dead_load_floor\n",
    "        and DESIGN_SPACE.loc[indx, 'dead load roof'] == dead_load_roof \n",
    "        and DESIGN_SPACE.loc[indx, 'column beam ratio'] == column_beam_ratio):\n",
    "            target_ID.append(DESIGN_SPACE.loc[indx, 'building ID'])\n",
    "# Read the Design Results for Those Buildings\n",
    "beam = []\n",
    "exterior_column = []\n",
    "interior_column = []\n",
    "double_plate_thickness = []\n",
    "for ID in target_ID:\n",
    "    beam_per_building = []\n",
    "    exterior_column_per_building = []\n",
    "    interior_column_per_building = []\n",
    "    target_path = design_directory + \"\\\\Building_\" + str(ID)\n",
    "    os.chdir(target_path)\n",
    "    with open('ConstructionSize.csv', 'r') as file:\n",
    "        MemberSize = pd.read_csv(file, header=0)\n",
    "    row_number = MemberSize.shape[0]\n",
    "    for story in range(row_number):\n",
    "        beam_per_building.append(MemberSize.loc[story, 'beam'])\n",
    "        exterior_column_per_building.append(MemberSize.loc[story, 'exterior column'])\n",
    "        interior_column_per_building.append(MemberSize.loc[story, 'interior column'])\n",
    "    beam.append(beam_per_building)\n",
    "    exterior_column.append(exterior_column_per_building)\n",
    "    interior_column.append(interior_column_per_building)"
   ]
  },
  {
   "cell_type": "code",
   "execution_count": 47,
   "metadata": {},
   "outputs": [],
   "source": [
    "# Visualize the results\n",
    "# The quantities to quantify those section sizes\n",
    "beam_Zx = []\n",
    "exterior_column_Ix = []\n",
    "interior_column_Ix = []\n",
    "for each in range(len(beam)):\n",
    "    beam_Zx_per_building = []\n",
    "    exterior_column_Ix_per_building = []\n",
    "    interior_column_Ix_per_building = []\n",
    "    for story in range(len(beam[0])):\n",
    "        beam_Zx_per_building.append(search_section_property(beam[each][story], SECTION_DATABASE)['Ix'])\n",
    "        exterior_column_Ix_per_building.append(search_section_property(exterior_column[each][story], SECTION_DATABASE)['Ix'])\n",
    "        interior_column_Ix_per_building.append(search_section_property(interior_column[each][story], SECTION_DATABASE)['Ix'])\n",
    "    beam_Zx.append(beam_Zx_per_building)\n",
    "    exterior_column_Ix.append(exterior_column_Ix_per_building)\n",
    "    interior_column_Ix.append(interior_column_Ix_per_building)"
   ]
  },
  {
   "cell_type": "code",
   "execution_count": 48,
   "metadata": {},
   "outputs": [
    {
     "data": {
      "image/png": "[encoded data removed]",
      "text/plain": [
       "<Figure size 432x288 with 1 Axes>"
      ]
     },
     "metadata": {},
     "output_type": "display_data"
    }
   ],
   "source": [
    "fig = plt.figure(figsize=(6, 4))\n",
    "plt.plot(number_bay, beam_Zx, color='blue', marker='*', markersize=12, label='beam Ix')\n",
    "plt.plot(number_bay, exterior_column_Ix, color='red', marker='^', markersize=12, label='exterior column Ix')\n",
    "if number_bay != 1:\n",
    "    plt.plot(number_bay, interior_column_Ix, color='green', marker='d', markersize=12, label='interior column Ix')\n",
    "plt.legend(loc='upper left')\n",
    "plt.title('story# = %s, bay width = %s ft , bay# = %s, floor dead load = %s psf ' \n",
    "          % (number_story, bay_width, number_bay, dead_load_floor))\n",
    "plt.show()"
   ]
  },
  {
   "cell_type": "code",
   "execution_count": 1,
   "metadata": {},
   "outputs": [],
   "source": [
    "IDs = [1566,\n",
    "       1569,\n",
    "       1572,\n",
    "       1575,\n",
    "       1578,\n",
    "       1581,\n",
    "       1584,\n",
    "       1587,\n",
    "       1590,\n",
    "       1620,\n",
    "       1623,\n",
    "       1626,\n",
    "       1629,\n",
    "       1632,\n",
    "       1635,\n",
    "       1638,\n",
    "       1641,\n",
    "       1644,\n",
    "       1674,\n",
    "       1677,\n",
    "       1680,\n",
    "       1683,\n",
    "       1686,\n",
    "       1689,\n",
    "       1692,\n",
    "       1695,\n",
    "       1698,\n",
    "       1728,\n",
    "       1731,\n",
    "       1734,\n",
    "       1737,\n",
    "       1740,\n",
    "       1743,\n",
    "       1746,\n",
    "       1749,\n",
    "       1752,\n",
    "       1782,\n",
    "       1785,\n",
    "       1788,\n",
    "       1791,\n",
    "       1794,\n",
    "       1797,\n",
    "       1800,\n",
    "       1803,\n",
    "       1806,\n",
    "       1836,\n",
    "       1839,\n",
    "       1842,\n",
    "       1845,\n",
    "       1848,\n",
    "       1851,\n",
    "       1854,\n",
    "       1857,\n",
    "       1860,\n",
    "       1890,\n",
    "       1893,\n",
    "       1896,\n",
    "       1899,\n",
    "       1902,\n",
    "       1905,\n",
    "       1908,\n",
    "       1911,\n",
    "       1914,\n",
    "       1944,\n",
    "       1947,\n",
    "       1950,\n",
    "       1953,\n",
    "       1956,\n",
    "       1959,\n",
    "       1962,\n",
    "       1965,\n",
    "       1968,\n",
    "       1998,\n",
    "       2001,\n",
    "       2004,\n",
    "       2007,\n",
    "       2010,\n",
    "       2013,\n",
    "       2016,\n",
    "       2019,\n",
    "       2022]"
   ]
  },
  {
   "cell_type": "code",
   "execution_count": 6,
   "metadata": {},
   "outputs": [
    {
     "data": {
      "text/plain": [
       "[1947,\n",
       " 1950,\n",
       " 1953,\n",
       " 1956,\n",
       " 1959,\n",
       " 1962,\n",
       " 1965,\n",
       " 1968,\n",
       " 1998,\n",
       " 2001,\n",
       " 2004,\n",
       " 2007,\n",
       " 2010,\n",
       " 2013,\n",
       " 2016,\n",
       " 2019,\n",
       " 2022]"
      ]
     },
     "execution_count": 6,
     "metadata": {},
     "output_type": "execute_result"
    }
   ],
   "source": [
    "IDs[64:]"
   ]
  },
  {
   "cell_type": "code",
   "execution_count": null,
   "metadata": {},
   "outputs": [],
   "source": []
  }
 ],
 "metadata": {
  "kernelspec": {
   "display_name": "Python 3",
   "language": "python",
   "name": "python3"
  },
  "language_info": {
   "codemirror_mode": {
    "name": "ipython",
    "version": 3
   },
   "file_extension": ".py",
   "mimetype": "text/x-python",
   "name": "python",
   "nbconvert_exporter": "python",
   "pygments_lexer": "ipython3",
   "version": "3.6.5"
  }
 },
 "nbformat": 4,
 "nbformat_minor": 2
}
