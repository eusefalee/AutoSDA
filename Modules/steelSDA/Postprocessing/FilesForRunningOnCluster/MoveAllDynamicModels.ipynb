{
 "cells": [
  {
   "cell_type": "markdown",
   "metadata": {},
   "source": [
    "## Move OpenSees Models to a New Single Folder"
   ]
  },
  {
   "cell_type": "code",
   "execution_count": 7,
   "metadata": {},
   "outputs": [],
   "source": [
    "# This file is used to move all OpenSees models to a new single folder\n",
    "# which will be convenient for uploading models to cluster (super computer)\n",
    "\n",
    "import os\n",
    "import shutil\n",
    "import numpy as np\n",
    "\n",
    "# Define source directory where all building models (eigen model, pushover model, and dynamic model) are stored\n",
    "source_directory = 'C:\\\\Users\\\\61946\\\\Documents\\\\GitHub\\\\SeismicDesignModule\\\\BuildingNonlinearModels'\n",
    "\n",
    "# Define target directory where all desired models (either pushover or dynamic model) will be stored\n",
    "target_directory = 'C:\\\\Users\\\\61946\\\\Desktop\\\\AdditionalTesting\\\\Batch3'\n",
    "\n",
    "# Define a list of building IDs\n",
    "os.chdir(target_directory)\n",
    "ID = list(np.loadtxt('BuildingIDs.txt'))\n",
    "IDs = list()\n",
    "for each in ID:\n",
    "    IDs.append(int(each))\n",
    "\n",
    "# Define the desired model type\n",
    "# Options: EigenValueAnalysis, PushoverAnalysis, DynamicAnalysis\n",
    "model_type = 'DynamicAnalysis'\n",
    "\n",
    "# Loop over each building folder and move the necessary files to new folder\n",
    "for indx in IDs:\n",
    "    # Current building folder\n",
    "    building_id = 'Building_' + str(indx)\n",
    "    # Source directory where current building model is\n",
    "    source_model = source_directory + '\\\\' + building_id + '\\\\' + model_type\n",
    "    # Destinaton directory where this current building model will be moved\n",
    "    target_model = target_directory + '\\\\' + building_id + '\\\\' + model_type\n",
    "    # This new folder path might not be existing (thus create it)\n",
    "    if not os.path.exists(target_model):\n",
    "        os.makedirs(target_model) \n",
    "    # Make sure the original building model indeed exists\n",
    "    if os.path.exists(source_model):\n",
    "        # Loop over all files in the source_model path and move them to new folder\n",
    "        for _, _, files in os.walk(source_model):\n",
    "            for file in files:\n",
    "                # Source full file path (file path + file name + file extension)\n",
    "                source_file = source_model + '\\\\' + file\n",
    "                # Target full file path (target file path + file name + file extension)\n",
    "                target_file = target_model + '\\\\' + file\n",
    "                # Not necessary to move OpenSees.exe file (waste space and affect copy speed)\n",
    "                # Cluster has its own executable file\n",
    "                if file != 'OpenSees.exe' and file != 'RunIDA2DModel.tcl':\n",
    "                    shutil.copy(source_file, target_file)"
   ]
  },
  {
   "cell_type": "code",
   "execution_count": null,
   "metadata": {},
   "outputs": [],
   "source": []
  }
 ],
 "metadata": {
  "kernelspec": {
   "display_name": "Python 3",
   "language": "python",
   "name": "python3"
  },
  "language_info": {
   "codemirror_mode": {
    "name": "ipython",
    "version": 3
   },
   "file_extension": ".py",
   "mimetype": "text/x-python",
   "name": "python",
   "nbconvert_exporter": "python",
   "pygments_lexer": "ipython3",
   "version": "3.7.1"
  }
 },
 "nbformat": 4,
 "nbformat_minor": 2
}
