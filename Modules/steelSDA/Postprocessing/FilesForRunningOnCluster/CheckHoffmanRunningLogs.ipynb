{
 "cells": [
  {
   "cell_type": "code",
   "execution_count": 2,
   "metadata": {},
   "outputs": [
    {
     "ename": "FileNotFoundError",
     "evalue": "[Errno 2] No such file or directory: 'BuildJob.sh.output.2820731'",
     "output_type": "error",
     "traceback": [
      "\u001b[1;31m---------------------------------------------------------------------------\u001b[0m",
      "\u001b[1;31mFileNotFoundError\u001b[0m                         Traceback (most recent call last)",
      "\u001b[1;32m<ipython-input-2-58a19a72e8d6>\u001b[0m in \u001b[0;36m<module>\u001b[1;34m\u001b[0m\n\u001b[0;32m     14\u001b[0m \u001b[1;32mfor\u001b[0m \u001b[0mindx\u001b[0m \u001b[1;32min\u001b[0m \u001b[0mrange\u001b[0m\u001b[1;33m(\u001b[0m\u001b[1;36m1\u001b[0m\u001b[1;33m,\u001b[0m \u001b[0mnumber_of_jobs\u001b[0m\u001b[1;33m+\u001b[0m\u001b[1;36m1\u001b[0m\u001b[1;33m)\u001b[0m\u001b[1;33m:\u001b[0m\u001b[1;33m\u001b[0m\u001b[1;33m\u001b[0m\u001b[0m\n\u001b[0;32m     15\u001b[0m     \u001b[0mfile_name\u001b[0m \u001b[1;33m=\u001b[0m \u001b[1;34m'BuildJob.sh.output.282073'\u001b[0m \u001b[1;33m+\u001b[0m \u001b[0mstr\u001b[0m\u001b[1;33m(\u001b[0m\u001b[0mindx\u001b[0m\u001b[1;33m)\u001b[0m\u001b[1;33m\u001b[0m\u001b[1;33m\u001b[0m\u001b[0m\n\u001b[1;32m---> 16\u001b[1;33m     \u001b[1;32mwith\u001b[0m \u001b[0mopen\u001b[0m\u001b[1;33m(\u001b[0m\u001b[0mfile_name\u001b[0m\u001b[1;33m,\u001b[0m \u001b[1;34m'r'\u001b[0m\u001b[1;33m)\u001b[0m \u001b[1;32mas\u001b[0m \u001b[0mfile\u001b[0m\u001b[1;33m:\u001b[0m\u001b[1;33m\u001b[0m\u001b[1;33m\u001b[0m\u001b[0m\n\u001b[0m\u001b[0;32m     17\u001b[0m         \u001b[0mcontent\u001b[0m \u001b[1;33m=\u001b[0m \u001b[0mfile\u001b[0m\u001b[1;33m.\u001b[0m\u001b[0mread\u001b[0m\u001b[1;33m(\u001b[0m\u001b[1;33m)\u001b[0m\u001b[1;33m\u001b[0m\u001b[1;33m\u001b[0m\u001b[0m\n\u001b[0;32m     18\u001b[0m     \u001b[0mmatch\u001b[0m \u001b[1;33m=\u001b[0m \u001b[0mre\u001b[0m\u001b[1;33m.\u001b[0m\u001b[0msearch\u001b[0m\u001b[1;33m(\u001b[0m\u001b[1;34m'Current ModelIndex: 14.'\u001b[0m\u001b[1;33m,\u001b[0m \u001b[0mcontent\u001b[0m\u001b[1;33m)\u001b[0m\u001b[1;33m\u001b[0m\u001b[1;33m\u001b[0m\u001b[0m\n",
      "\u001b[1;31mFileNotFoundError\u001b[0m: [Errno 2] No such file or directory: 'BuildJob.sh.output.2820731'"
     ]
    }
   ],
   "source": [
    "# This file will be used to check whether the Hoffman accomplishes all models based on their logs\n",
    "\n",
    "import os\n",
    "import re\n",
    "\n",
    "work_directory = os.getcwd()\n",
    "data_directory = 'C:\\\\Users\\\\61946\\\\Desktop\\\\Batch1'\n",
    "\n",
    "number_of_jobs = 44  # number of ground motions\n",
    "\n",
    "exception = list()\n",
    "\n",
    "os.chdir(data_directory)\n",
    "for indx in range(1, number_of_jobs+1):\n",
    "    file_name = 'BuildJob.sh.output.579837.' + str(indx)\n",
    "    with open(file_name, 'r') as file:\n",
    "        content = file.read()\n",
    "    match = re.search('Current ModelIndex: 14.', content)\n",
    "    if not match:\n",
    "        exception.append(file_name)\n",
    "print(exception)"
   ]
  },
  {
   "cell_type": "code",
   "execution_count": 2,
   "metadata": {},
   "outputs": [
    {
     "name": "stdout",
     "output_type": "stream",
     "text": [
      "[]\n"
     ]
    }
   ],
   "source": [
    "# This file will be used to check whether the Hoffman accomplishes all models based on their logs\n",
    "\n",
    "import os\n",
    "import re\n",
    "\n",
    "work_directory = os.getcwd()\n",
    "data_directory = 'C:\\\\Users\\\\61946\\\\Desktop\\\\Batch1'\n",
    "\n",
    "number_of_jobs = 13  # number of buildings\n",
    "\n",
    "exception = list()\n",
    "\n",
    "os.chdir(data_directory)\n",
    "for indx in range(1, number_of_jobs+1):\n",
    "    file_name = 'PythonGoGUAN.sh.output.1991799.' + str(indx)\n",
    "    with open(file_name, 'r') as file:\n",
    "        content = file.read()\n",
    "    match = re.search('Peak Roof Drifts', content)\n",
    "    if not match:\n",
    "        exception.append(file_name)\n",
    "print(exception)"
   ]
  },
  {
   "cell_type": "code",
   "execution_count": null,
   "metadata": {},
   "outputs": [],
   "source": []
  }
 ],
 "metadata": {
  "kernelspec": {
   "display_name": "Python 3",
   "language": "python",
   "name": "python3"
  },
  "language_info": {
   "codemirror_mode": {
    "name": "ipython",
    "version": 3
   },
   "file_extension": ".py",
   "mimetype": "text/x-python",
   "name": "python",
   "nbconvert_exporter": "python",
   "pygments_lexer": "ipython3",
   "version": "3.7.1"
  }
 },
 "nbformat": 4,
 "nbformat_minor": 2
}
